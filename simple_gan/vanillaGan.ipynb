{
 "cells": [
  {
   "cell_type": "code",
   "execution_count": null,
   "metadata": {},
   "outputs": [],
   "source": [
    "%pip install torch"
   ]
  },
  {
   "cell_type": "code",
   "execution_count": 7,
   "metadata": {},
   "outputs": [],
   "source": [
    "from torch import nn"
   ]
  },
  {
   "cell_type": "code",
   "execution_count": null,
   "metadata": {},
   "outputs": [],
   "source": [
    "# Configurable variables\n",
    "NOISE_DIMENSION = 50\n",
    "GENERATOR_OUTPUT_IMAGE_SHAPE = 28 * 28 * 1"
   ]
  },
  {
   "cell_type": "code",
   "execution_count": null,
   "metadata": {},
   "outputs": [],
   "source": [
    "class Generator(nn.Module):\n",
    "  \"\"\"\n",
    "    Vanilla GAN Generator\n",
    "  \"\"\"\n",
    "  def __init__(self,):\n",
    "    super().__init__()\n",
    "    self.layers = nn.Sequential(\n",
    "      ###\n",
    "      # Linear layer to apply the transformation and extend the number of features\n",
    "      # This is a layer where every input influences every output of the layer \n",
    "      # to a degree specified by the layer’s weights\n",
    "      nn.Linear(NOISE_DIMENSION, 128, bias=False),\n",
    "      # Normalization layers re-center and normalize the output of \n",
    "      # one layer before feeding it to another. \n",
    "      nn.BatchNorm1d(128, 0.8), \n",
    "      # Activation layer, similar to ReLU but allows a small negative slope \n",
    "      # for negative inputs.\n",
    "      # When you want to prevent the dying ReLU problem.\n",
    "      nn.LeakyReLU(0.25), \n",
    "      ###\n",
    "      nn.Linear(128, 256, bias=False),\n",
    "      nn.BatchNorm1d(256, 0.8),\n",
    "      nn.LeakyReLU(0.25),\n",
    "      ###\n",
    "      nn.Linear(256, 512, bias=False),\n",
    "      nn.BatchNorm1d(512, 0.8),\n",
    "      nn.LeakyReLU(0.25),\n",
    "      ###\n",
    "      nn.Linear(512, GENERATOR_OUTPUT_IMAGE_SHAPE, bias=False),\n",
    "      # Activation layer, similar to a Sigmoid but converge more quickly\n",
    "      # because the the range of values is [-1, 1] and the mean 0.\n",
    "      nn.Tanh()\n",
    "    )\n",
    "\n",
    "  def forward(self, x):\n",
    "    \"\"\"Forward pass\"\"\"\n",
    "    return self.layers(x)"
   ]
  },
  {
   "cell_type": "code",
   "execution_count": null,
   "metadata": {},
   "outputs": [],
   "source": []
  }
 ],
 "metadata": {
  "kernelspec": {
   "display_name": ".env",
   "language": "python",
   "name": "python3"
  },
  "language_info": {
   "codemirror_mode": {
    "name": "ipython",
    "version": 3
   },
   "file_extension": ".py",
   "mimetype": "text/x-python",
   "name": "python",
   "nbconvert_exporter": "python",
   "pygments_lexer": "ipython3",
   "version": "3.10.8"
  },
  "orig_nbformat": 4
 },
 "nbformat": 4,
 "nbformat_minor": 2
}
